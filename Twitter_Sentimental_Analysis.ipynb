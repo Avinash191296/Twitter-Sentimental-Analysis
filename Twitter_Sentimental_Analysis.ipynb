{
 "cells": [
  {
   "cell_type": "code",
   "execution_count": 1,
   "metadata": {
    "scrolled": false
   },
   "outputs": [
    {
     "name": "stdout",
     "output_type": "stream",
     "text": [
      "Enter the keyword/Hashtag to search about :Ms Dhoni\n",
      "Enter the no. of tweets to analyze :35\n",
      "How people are reacting on Ms Dhoni by analyzing 35 tweets.\n",
      "Overall Polarity is Positive\n"
     ]
    },
    {
     "data": {
      "image/png": "[encoded data removed]",
      "text/plain": [
       "<matplotlib.figure.Figure at 0x296bdc99128>"
      ]
     },
     "metadata": {},
     "output_type": "display_data"
    }
   ],
   "source": [
    "import tweepy\n",
    "import sys\n",
    "import matplotlib.pyplot as plt\n",
    "from textblob import TextBlob\n",
    "\n",
    "def percentage(part,whole):\n",
    "    return 100*float(part)/float(whole)\n",
    "\n",
    "\n",
    "\n",
    "consumerKey = 'tSdySOd84vOvIQnaWhtXzlS7v'\n",
    "consumerSecret = 'mWniud0oLjVtDihB7W1GxBS0D7gJvYJgMWHD3EqBvamfu24U3u'\n",
    "accessToken = '1368941599-oLPYg9TplEZNy0ZbeWR0BGhKEO9QUh1pRF8LTzu'\n",
    "accessTokenSecret = 'ba3tMqnhwlZXxXXKqjCXbDYSjg8YrNizyb3eIb1MVMGzV'\n",
    "\n",
    "#Establishing the connection\n",
    "\n",
    "auth = tweepy.OAuthHandler(consumerKey, consumerSecret)\n",
    "auth.set_access_token(accessToken, accessTokenSecret)\n",
    "api = tweepy.API(auth)\n",
    "\n",
    "\n",
    "searchTerm=input(\"Enter the keyword/Hashtag to search about :\")\n",
    "noofsearchTerms=int(input(\"Enter the no. of tweets to analyze :\"))\n",
    "\n",
    "tweets = tweepy.Cursor(api.search, q=searchTerm,lang=\"en\").items(noofsearchTerms)\n",
    "\n",
    "\n",
    "positive=0\n",
    "negative=0\n",
    "neutral=0\n",
    "polarity=0\n",
    "\n",
    "for tweet in tweets:\n",
    "    analysis=TextBlob(tweet.text)\n",
    "    polarity+=analysis.sentiment.polarity\n",
    "    \n",
    "    if(analysis.sentiment.polarity==0):\n",
    "        neutral+=1\n",
    "    elif(analysis.sentiment.polarity>0.00):\n",
    "        positive+=1\n",
    "    elif(analysis.sentiment.polarity<0.00):\n",
    "        negative+=1\n",
    "        \n",
    "        \n",
    "        \n",
    "#Calculating the percentage of all the positive,negative and neutral terms\n",
    "\n",
    "positive=percentage(positive,noofsearchTerms)\n",
    "negative=percentage(negative,noofsearchTerms)\n",
    "neutral=percentage(neutral,noofsearchTerms)\n",
    "\n",
    "\n",
    "positive=format(positive, '.2f')\n",
    "negative=format(negative, '.2f')\n",
    "neutral=format(neutral, '.2f')\n",
    "\n",
    "\n",
    "\n",
    "print(\"How people are reacting on \"+ searchTerm +\" by analyzing \"+ str(noofsearchTerms)+\" tweets.\")\n",
    "\n",
    "\n",
    "if (polarity==0):\n",
    "    print(\"Overall Polarity is Neutral\")\n",
    "elif (polarity>0):\n",
    "    print(\"Overall Polarity is Positive\")\n",
    "elif (polarity<0):\n",
    "    print(\"Overall Polarity is Negative\")\n",
    "    \n",
    "    \n",
    "labels=['Positive [' +str(positive)+'%]', 'Neutral [' +str(neutral)+'%]', 'Negative [' +str(negative)+'%]']\n",
    "sizes=[positive,neutral,negative]\n",
    "colors=['yellowgreen','gold','red']\n",
    "patches,texts=plt.pie(sizes, colors=colors,startangle=90)\n",
    "plt.legend(patches,labels,loc=\"best\")\n",
    "plt.title(\"How people are reacting on \"+ searchTerm +\" by analyzing \"+ str(noofsearchTerms)+\" tweets.\")\n",
    "plt.axis(\"equal\")\n",
    "plt.tight_layout()\n",
    "plt.show();\n",
    "\n",
    "\n"
   ]
  },
  {
   "cell_type": "code",
   "execution_count": null,
   "metadata": {
    "collapsed": true
   },
   "outputs": [],
   "source": [
    "\n"
   ]
  },
  {
   "cell_type": "code",
   "execution_count": null,
   "metadata": {
    "collapsed": true
   },
   "outputs": [],
   "source": []
  }
 ],
 "metadata": {
  "kernelspec": {
   "display_name": "Python 3",
   "language": "python",
   "name": "python3"
  },
  "language_info": {
   "codemirror_mode": {
    "name": "ipython",
    "version": 3
   },
   "file_extension": ".py",
   "mimetype": "text/x-python",
   "name": "python",
   "nbconvert_exporter": "python",
   "pygments_lexer": "ipython3",
   "version": "3.6.3"
  }
 },
 "nbformat": 4,
 "nbformat_minor": 2
}
